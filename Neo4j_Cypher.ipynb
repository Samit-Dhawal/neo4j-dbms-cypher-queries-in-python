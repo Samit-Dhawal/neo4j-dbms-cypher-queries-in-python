{
 "cells": [
  {
   "cell_type": "code",
   "execution_count": 100,
   "id": "588771b4",
   "metadata": {},
   "outputs": [
    {
     "name": "stdout",
     "output_type": "stream",
     "text": [
      "Requirement already satisfied: neo4j in c:\\users\\rames\\appdata\\local\\programs\\python\\python311\\lib\\site-packages (5.18.0)\n",
      "Requirement already satisfied: pytz in c:\\users\\rames\\appdata\\local\\programs\\python\\python311\\lib\\site-packages (from neo4j) (2022.7.1)\n",
      "Note: you may need to restart the kernel to use updated packages.\n"
     ]
    }
   ],
   "source": [
    "pip install neo4j"
   ]
  },
  {
   "cell_type": "code",
   "execution_count": 56,
   "id": "e2671a0a",
   "metadata": {},
   "outputs": [],
   "source": [
    "# Build driver connection with the database\n",
    "from neo4j import GraphDatabase\n",
    "\n",
    "uri = 'bolt://localhost:7687'\n",
    "username = 'neo4j'\n",
    "password = 'samit123'\n",
    "\n",
    "driver = GraphDatabase.driver(uri, auth = (username,password))\n",
    "ssn = driver.session()       #ssn = session"
   ]
  },
  {
   "cell_type": "code",
   "execution_count": 101,
   "id": "8544716d",
   "metadata": {},
   "outputs": [
    {
     "name": "stdout",
     "output_type": "stream",
     "text": [
      "169\n"
     ]
    }
   ],
   "source": [
    "countsQ = 'MATCH (n) RETURN count(n) as nodeCount'\n",
    "counts = ssn.run(countsQ)\n",
    "for count in counts:\n",
    "    print(count['nodeCount'])"
   ]
  },
  {
   "cell_type": "code",
   "execution_count": 102,
   "id": "b341806a",
   "metadata": {},
   "outputs": [
    {
     "name": "stdout",
     "output_type": "stream",
     "text": [
      "<Record n=<Node element_id='4:fec32c0f-e368-4911-a319-61bcdfae8a44:0' labels=frozenset({'Movie'}) properties={'tagline': 'Welcome to the Real World', 'title': 'The Matrix', 'released': 1999}>>\n",
      "<Record n=<Node element_id='4:fec32c0f-e368-4911-a319-61bcdfae8a44:1' labels=frozenset({'Person'}) properties={'born': 1964, 'name': 'Keanu Reeves'}>>\n",
      "<Record n=<Node element_id='4:fec32c0f-e368-4911-a319-61bcdfae8a44:2' labels=frozenset({'Person'}) properties={'born': 1967, 'name': 'Carrie-Anne Moss'}>>\n",
      "<Record n=<Node element_id='4:fec32c0f-e368-4911-a319-61bcdfae8a44:3' labels=frozenset({'Person'}) properties={'born': 1961, 'name': 'Laurence Fishburne'}>>\n",
      "<Record n=<Node element_id='4:fec32c0f-e368-4911-a319-61bcdfae8a44:4' labels=frozenset({'Person'}) properties={'born': 1960, 'name': 'Hugo Weaving'}>>\n",
      "<Record n=<Node element_id='4:fec32c0f-e368-4911-a319-61bcdfae8a44:5' labels=frozenset({'Person'}) properties={'born': 1967, 'name': 'Andy Wachowski'}>>\n",
      "<Record n=<Node element_id='4:fec32c0f-e368-4911-a319-61bcdfae8a44:6' labels=frozenset({'Person'}) properties={'born': 1965, 'name': 'Lana Wachowski'}>>\n",
      "<Record n=<Node element_id='4:fec32c0f-e368-4911-a319-61bcdfae8a44:7' labels=frozenset({'Person'}) properties={'born': 1952, 'name': 'Joel Silver'}>>\n",
      "<Record n=<Node element_id='4:fec32c0f-e368-4911-a319-61bcdfae8a44:8' labels=frozenset({'Person'}) properties={'born': 1978, 'name': 'Emil Eifrem'}>>\n",
      "<Record n=<Node element_id='4:fec32c0f-e368-4911-a319-61bcdfae8a44:9' labels=frozenset({'Movie'}) properties={'tagline': 'Free your mind', 'title': 'The Matrix Reloaded', 'released': 2003}>>\n"
     ]
    }
   ],
   "source": [
    "# Read Nodes\n",
    "\n",
    "query = 'MATCH (n) RETURN (n) LIMIT 10'\n",
    "# query = 'MATCH (n:Person) RETURN n.name AS Name'\n",
    "# query = 'MATCH (n) where n.name=\"Lana Wachowski\" RETURN (n)'\n",
    "# query = 'MATCH(n) where n.title = \"The Matrix\" return(n)'\n",
    "nodes = ssn.run(query)\n",
    "\n",
    "for node in nodes:\n",
    "    print(node)   "
   ]
  },
  {
   "cell_type": "code",
   "execution_count": 103,
   "id": "b01a66a5",
   "metadata": {},
   "outputs": [],
   "source": [
    "# Create Label with Properties\n",
    "\n",
    "query = 'CREATE(:checkUser {name:\"Samit\",age:21,gender:\"Male\",education:\"B.Tech\"})'\n",
    "nodes = ssn.run(query)"
   ]
  },
  {
   "cell_type": "code",
   "execution_count": 104,
   "id": "b2a296f1",
   "metadata": {},
   "outputs": [
    {
     "name": "stdout",
     "output_type": "stream",
     "text": [
      "<Record n=<Node element_id='4:fec32c0f-e368-4911-a319-61bcdfae8a44:169' labels=frozenset({'checkUser'}) properties={'education': 'B.Tech', 'gender': 'Male', 'name': 'Samit', 'age': 21}>>\n"
     ]
    }
   ],
   "source": [
    "query = 'MATCH (n:checkUser {name:\"Samit\"}) return n'\n",
    "nodes = ssn.run(query)\n",
    "for node in nodes:\n",
    "    print(node)"
   ]
  },
  {
   "cell_type": "code",
   "execution_count": null,
   "id": "3e0a8866",
   "metadata": {},
   "outputs": [],
   "source": []
  },
  {
   "cell_type": "code",
   "execution_count": 106,
   "id": "8b9a04b2",
   "metadata": {},
   "outputs": [],
   "source": [
    "# Update age property to 21 from 22\n",
    "\n",
    "query = 'MATCH (n:checkUser {name:\"Samit\"}) set n.age=22'\n",
    "nodes = ssn.run(query)"
   ]
  },
  {
   "cell_type": "code",
   "execution_count": 107,
   "id": "46fb86c1",
   "metadata": {},
   "outputs": [
    {
     "name": "stdout",
     "output_type": "stream",
     "text": [
      "<Record n=<Node element_id='4:fec32c0f-e368-4911-a319-61bcdfae8a44:169' labels=frozenset({'checkUser'}) properties={'education': 'B.Tech', 'gender': 'Male', 'name': 'Samit', 'age': 22}>>\n"
     ]
    }
   ],
   "source": [
    "query = 'MATCH (n:checkUser {name:\"Samit\"}) return n'\n",
    "nodes = ssn.run(query)\n",
    "for node in nodes:\n",
    "    print(node)"
   ]
  },
  {
   "cell_type": "code",
   "execution_count": null,
   "id": "5d126cd3",
   "metadata": {},
   "outputs": [],
   "source": []
  },
  {
   "cell_type": "code",
   "execution_count": 108,
   "id": "e667ca46",
   "metadata": {
    "scrolled": true
   },
   "outputs": [
    {
     "data": {
      "text/plain": [
       "<neo4j._sync.work.result.Result at 0x16acda890d0>"
      ]
     },
     "execution_count": 108,
     "metadata": {},
     "output_type": "execute_result"
    }
   ],
   "source": [
    "# Delete gender property\n",
    "query = 'MATCH (n:checkUser{name:\"Samit\"}) REMOVE n.gender'\n",
    "ssn.run(query)"
   ]
  },
  {
   "cell_type": "code",
   "execution_count": 109,
   "id": "6e44086f",
   "metadata": {},
   "outputs": [
    {
     "name": "stdout",
     "output_type": "stream",
     "text": [
      "<Record n=<Node element_id='4:fec32c0f-e368-4911-a319-61bcdfae8a44:169' labels=frozenset({'checkUser'}) properties={'education': 'B.Tech', 'name': 'Samit', 'age': 22}>>\n"
     ]
    }
   ],
   "source": [
    "query = 'MATCH (n:checkUser {name:\"Samit\"}) return n'\n",
    "nodes = ssn.run(query)\n",
    "for node in nodes:\n",
    "    print(node)"
   ]
  },
  {
   "cell_type": "code",
   "execution_count": null,
   "id": "a44a6b77",
   "metadata": {},
   "outputs": [],
   "source": []
  },
  {
   "cell_type": "code",
   "execution_count": 110,
   "id": "eed7d814",
   "metadata": {},
   "outputs": [],
   "source": [
    "# Create Label with property language and love\n",
    "\n",
    "query = 'CREATE(:Do {programming:\"Python\",love:\"Farming\"})'\n",
    "nodes = ssn.run(query)"
   ]
  },
  {
   "cell_type": "code",
   "execution_count": 112,
   "id": "a0013624",
   "metadata": {},
   "outputs": [],
   "source": [
    "query = 'MATCH (n:Do {language:\"Python\"}) return n'\n",
    "nodes = ssn.run(query)\n",
    "for node in nodes:\n",
    "    print(node)"
   ]
  },
  {
   "cell_type": "code",
   "execution_count": null,
   "id": "d4cc257e",
   "metadata": {},
   "outputs": [],
   "source": []
  },
  {
   "cell_type": "code",
   "execution_count": 113,
   "id": "394fa3eb",
   "metadata": {},
   "outputs": [],
   "source": [
    "# Creating Relation\n",
    "\n",
    "query = 'MATCH (u:checkUser {name: \"Samit\"}), (d:Do {programming: \"Python\"}) CREATE (u)-[:LIKES]->(d)'\n",
    "nodes = ssn.run(query)"
   ]
  },
  {
   "cell_type": "code",
   "execution_count": null,
   "id": "332a1245",
   "metadata": {},
   "outputs": [],
   "source": [
    "query = 'MATCH (u:checkUser {name: \"Samit\"})-[r:LIKES]->(d:Do {programming: \"Python\"}) RETURN u, r, d'\n",
    "nodes = ssn.run(query)\n",
    "for node in nodes:\n",
    "    print(node)"
   ]
  },
  {
   "cell_type": "code",
   "execution_count": null,
   "id": "2844d4dc",
   "metadata": {},
   "outputs": [],
   "source": []
  },
  {
   "cell_type": "code",
   "execution_count": 114,
   "id": "2f12f58f",
   "metadata": {},
   "outputs": [
    {
     "data": {
      "text/plain": [
       "<neo4j._sync.work.result.Result at 0x16acc5baf10>"
      ]
     },
     "execution_count": 114,
     "metadata": {},
     "output_type": "execute_result"
    }
   ],
   "source": [
    "# Delete checkUser label\n",
    "query = 'MATCH (n:checkUser{name:\"Samit\"}) DELETE n'\n",
    "ssn.run(query)"
   ]
  },
  {
   "cell_type": "code",
   "execution_count": 94,
   "id": "6745c6b9",
   "metadata": {},
   "outputs": [],
   "source": [
    "query = 'MATCH (n:checkUser {name:\"Samit\"}) return n'\n",
    "nodes = ssn.run(query)\n",
    "for node in nodes:\n",
    "    print(node)"
   ]
  }
 ],
 "metadata": {
  "kernelspec": {
   "display_name": "Python 3 (ipykernel)",
   "language": "python",
   "name": "python3"
  },
  "language_info": {
   "codemirror_mode": {
    "name": "ipython",
    "version": 3
   },
   "file_extension": ".py",
   "mimetype": "text/x-python",
   "name": "python",
   "nbconvert_exporter": "python",
   "pygments_lexer": "ipython3",
   "version": "3.11.8"
  }
 },
 "nbformat": 4,
 "nbformat_minor": 5
}
